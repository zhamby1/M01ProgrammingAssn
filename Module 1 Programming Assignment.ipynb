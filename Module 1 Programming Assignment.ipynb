{
 "cells": [
  {
   "cell_type": "markdown",
   "id": "eba6dd88",
   "metadata": {},
   "source": [
    "There are 60 seconds in an hour"
   ]
  },
  {
   "cell_type": "code",
   "execution_count": 5,
   "id": "b2bc77e9",
   "metadata": {},
   "outputs": [
    {
     "name": "stdout",
     "output_type": "stream",
     "text": [
      "3600\n"
     ]
    }
   ],
   "source": [
    "seconds_minutes = 60\n",
    "minutes_hours = 60\n",
    "total = seconds_minutes * minutes_hours\n",
    "print(total)"
   ]
  },
  {
   "cell_type": "code",
   "execution_count": null,
   "id": "cad22f3b",
   "metadata": {},
   "outputs": [],
   "source": []
  }
 ],
 "metadata": {
  "kernelspec": {
   "display_name": "Python 3 (ipykernel)",
   "language": "python",
   "name": "python3"
  },
  "language_info": {
   "codemirror_mode": {
    "name": "ipython",
    "version": 3
   },
   "file_extension": ".py",
   "mimetype": "text/x-python",
   "name": "python",
   "nbconvert_exporter": "python",
   "pygments_lexer": "ipython3",
   "version": "3.9.12"
  }
 },
 "nbformat": 4,
 "nbformat_minor": 5
}
